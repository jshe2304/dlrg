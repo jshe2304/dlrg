{
 "cells": [
  {
   "cell_type": "code",
   "execution_count": 1,
   "id": "ab861d73-ea7b-4821-ac2f-684cbdc17166",
   "metadata": {
    "tags": []
   },
   "outputs": [],
   "source": [
    "import torch\n",
    "import torch.nn as nn\n",
    "\n",
    "import matplotlib.pyplot as plt\n",
    "\n",
    "import time\n",
    "from math import exp\n",
    "from tqdm import tqdm\n",
    "\n",
    "#from rbm.lieb_lattices import Fine_Lieb_RBM, A1_Lieb_RBM\n",
    "from rbm.hex_lattices import Fine_Hex_RBM, A1_Hex_RBM\n",
    "from rg.monotone import MLP, Gaussian\n",
    "from utils.losses import free_energy_contrast\n",
    "from utils.newton import find_root\n",
    "from utils.hmc import HMC\n",
    "from utils.grad import batch_grad, grad"
   ]
  },
  {
   "cell_type": "code",
   "execution_count": 2,
   "id": "a59f417f-a379-409a-bc68-541f06c6e177",
   "metadata": {},
   "outputs": [],
   "source": [
    "device = torch.device('cpu')"
   ]
  },
  {
   "cell_type": "code",
   "execution_count": 3,
   "id": "2f610a0d-c435-4ee2-a1a3-1607759d6fc0",
   "metadata": {
    "jupyter": {
     "source_hidden": true
    }
   },
   "outputs": [],
   "source": [
    "def plot(f, xlim=(0, 2)):\n",
    "    \n",
    "    x_vals = torch.linspace(*xlim, 100, device=device).unsqueeze(1)\n",
    "    \n",
    "    f_vals = f(x_vals).cpu().detach()\n",
    "    dfdx_vals = batch_grad(f)(x_vals).cpu().detach()\n",
    "    x_vals = x_vals.cpu().detach()\n",
    "\n",
    "    fig, (ax0, ax1) = plt.subplots(2, 1, sharex=True, figsize=(8, 4))\n",
    "    \n",
    "    ax0.plot(x_vals, f_vals)\n",
    "    ax0.set_ylabel(r'$f$')\n",
    "    \n",
    "    ax1.plot(x_vals, dfdx_vals)\n",
    "    ax1.set_xlabel(r'$x$')\n",
    "    ax1.set_ylabel(r'$\\nabla \\: f$')\n",
    "    ax1.axhline(0, color='black', linewidth=0.5)\n",
    "    ax1.axvline(0, color='black', linewidth=0.5)"
   ]
  },
  {
   "cell_type": "markdown",
   "id": "5a88fbe7-0f71-43db-b44e-464f4a0a4199",
   "metadata": {},
   "source": [
    "# Models"
   ]
  },
  {
   "cell_type": "code",
   "execution_count": 4,
   "id": "5d8dd616-5783-469c-8ed7-142552cd3871",
   "metadata": {},
   "outputs": [],
   "source": [
    "C = MLP(\n",
    "    in_channels=1, \n",
    "    device=device\n",
    ")\n",
    "C.eval();"
   ]
  },
  {
   "cell_type": "code",
   "execution_count": 5,
   "id": "6fca078b-4a85-4136-94e3-df665c8ec4ac",
   "metadata": {},
   "outputs": [
    {
     "ename": "NameError",
     "evalue": "name 'Fine_Lieb_RBM' is not defined",
     "output_type": "error",
     "traceback": [
      "\u001b[0;31m---------------------------------------------------------------------------\u001b[0m",
      "\u001b[0;31mNameError\u001b[0m                                 Traceback (most recent call last)",
      "Cell \u001b[0;32mIn[5], line 3\u001b[0m\n\u001b[1;32m      1\u001b[0m lattice \u001b[38;5;241m=\u001b[39m \u001b[38;5;124m'\u001b[39m\u001b[38;5;124mlieb\u001b[39m\u001b[38;5;124m'\u001b[39m\n\u001b[1;32m      2\u001b[0m \u001b[38;5;28;01mif\u001b[39;00m lattice \u001b[38;5;241m==\u001b[39m \u001b[38;5;124m'\u001b[39m\u001b[38;5;124mlieb\u001b[39m\u001b[38;5;124m'\u001b[39m:\n\u001b[0;32m----> 3\u001b[0m     fine \u001b[38;5;241m=\u001b[39m Fine_Lieb_RBM(device\u001b[38;5;241m=\u001b[39mdevice)\n\u001b[1;32m      4\u001b[0m     coarse \u001b[38;5;241m=\u001b[39m A1_Lieb_RBM(device\u001b[38;5;241m=\u001b[39mdevice)\n\u001b[1;32m      5\u001b[0m \u001b[38;5;28;01melif\u001b[39;00m lattice \u001b[38;5;241m==\u001b[39m \u001b[38;5;124m'\u001b[39m\u001b[38;5;124mhex\u001b[39m\u001b[38;5;124m'\u001b[39m:\n",
      "\u001b[0;31mNameError\u001b[0m: name 'Fine_Lieb_RBM' is not defined"
     ]
    }
   ],
   "source": [
    "lattice = 'lieb'\n",
    "if lattice == 'lieb':\n",
    "    fine = Fine_Lieb_RBM(device=device)\n",
    "    coarse = A1_Lieb_RBM(device=device)\n",
    "elif lattice == 'hex':\n",
    "    fine = Fine_Hex_RBM(device=device)\n",
    "    coarse = A1_Hex_RBM(device=device)"
   ]
  },
  {
   "cell_type": "code",
   "execution_count": null,
   "id": "84a27ef6-db08-4bf8-907c-0b2dc55caf44",
   "metadata": {},
   "outputs": [],
   "source": [
    "sampler = HMC(device=device)"
   ]
  },
  {
   "cell_type": "code",
   "execution_count": null,
   "id": "2fd508bd-6ede-4b73-ba60-a53356945618",
   "metadata": {},
   "outputs": [],
   "source": [
    "in_channels = 1\n",
    "\n",
    "info = torch.ones(in_channels)\n",
    "mu = torch.zeros(in_channels)\n",
    "\n",
    "x = torch.randn(10, 1)"
   ]
  },
  {
   "cell_type": "code",
   "execution_count": null,
   "id": "ce1276ae-bad8-48f3-a33a-1b1f2eda107e",
   "metadata": {},
   "outputs": [],
   "source": [
    "plot(C, (-1, 1))"
   ]
  },
  {
   "cell_type": "markdown",
   "id": "cf72c3bb-7fc0-4db5-9224-146b052300ab",
   "metadata": {},
   "source": [
    "# Training"
   ]
  },
  {
   "cell_type": "code",
   "execution_count": null,
   "id": "25ee5988-1a96-450b-8981-0ed0e9fac894",
   "metadata": {
    "tags": []
   },
   "outputs": [],
   "source": [
    "epoch = 0\n",
    "epochs = 2048\n",
    "batch_size = 1024\n",
    "k = 64\n",
    "beta = lambda epoch : 4/(1 + exp(-0.01 * (epoch - (epochs / 2))))"
   ]
  },
  {
   "cell_type": "code",
   "execution_count": null,
   "id": "ed36aa48-7947-471d-a3a9-92a77e318d53",
   "metadata": {},
   "outputs": [],
   "source": [
    "optimizer = torch.optim.Adam(C.parameters())\n",
    "\n",
    "Js = []\n",
    "losses = []\n",
    "J = torch.tensor([1.], device=device)"
   ]
  },
  {
   "cell_type": "code",
   "execution_count": null,
   "id": "27a72fdb-1b76-4e7d-b0a1-b2017b3d4a79",
   "metadata": {
    "tags": []
   },
   "outputs": [],
   "source": [
    "C.train()\n",
    "\n",
    "for epoch in tqdm(range(epoch, epoch + epochs)):\n",
    "    optimizer.zero_grad()\n",
    "\n",
    "    sampler.potential = lambda J : -beta(epoch) * grad(C)(J).squeeze().norm()\n",
    "\n",
    "    # RG Flow\n",
    "    J = torch.clamp(sampler.step(J), min=0).detach()\n",
    "    fine.J = J\n",
    "    coarse.J = J - grad(C)(J)\n",
    "\n",
    "    # Loss\n",
    "    loss = free_energy_contrast(\n",
    "        fine, coarse, \n",
    "        batch_size=batch_size, \n",
    "        k_fine=64, \n",
    "        k_coarse=1\n",
    "    )\n",
    "    loss.backward()\n",
    "    optimizer.step()\n",
    "\n",
    "    # Logging\n",
    "    Js.append(float(J))\n",
    "    losses.append(float(loss))\n",
    "\n",
    "fig, (ax0, ax1) = plt.subplots(1, 2, figsize=(8, 4))\n",
    "ax0.plot(losses)\n",
    "ax1.plot(Js)"
   ]
  },
  {
   "cell_type": "code",
   "execution_count": null,
   "id": "2a730895-57cd-4355-bafd-1e22fd56e541",
   "metadata": {
    "tags": []
   },
   "outputs": [],
   "source": [
    "C.eval()\n",
    "plot(C, xlim=(-5, 5))\n",
    "find_root(torch.tensor([0.1], device=device), lambda x: grad(C)(x).squeeze())"
   ]
  }
 ],
 "metadata": {
  "kernelspec": {
   "display_name": "Python 3 (ipykernel)",
   "language": "python",
   "name": "python3"
  },
  "language_info": {
   "codemirror_mode": {
    "name": "ipython",
    "version": 3
   },
   "file_extension": ".py",
   "mimetype": "text/x-python",
   "name": "python",
   "nbconvert_exporter": "python",
   "pygments_lexer": "ipython3",
   "version": "3.12.4"
  }
 },
 "nbformat": 4,
 "nbformat_minor": 5
}
