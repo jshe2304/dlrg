{
 "cells": [
  {
   "cell_type": "code",
   "execution_count": 1,
   "id": "ab861d73-ea7b-4821-ac2f-684cbdc17166",
   "metadata": {
    "tags": []
   },
   "outputs": [],
   "source": [
    "import torch\n",
    "import torch.nn as nn\n",
    "\n",
    "import matplotlib.pyplot as plt\n",
    "\n",
    "from math import exp\n",
    "from tqdm import tqdm\n",
    "\n",
    "from rbm.lattices import Fine_RBM, A1_RBM\n",
    "from rg.monotone import ResidualMLP\n",
    "from utils.losses import free_energy_difference, free_energy_mse\n",
    "from utils.newton import find_root\n",
    "from utils.hmc import HMC\n",
    "from utils.grad import grad"
   ]
  },
  {
   "cell_type": "code",
   "execution_count": 2,
   "id": "a59f417f-a379-409a-bc68-541f06c6e177",
   "metadata": {},
   "outputs": [],
   "source": [
    "device = torch.device('cpu')"
   ]
  },
  {
   "cell_type": "code",
   "execution_count": 3,
   "id": "2f610a0d-c435-4ee2-a1a3-1607759d6fc0",
   "metadata": {
    "jupyter": {
     "source_hidden": true
    }
   },
   "outputs": [],
   "source": [
    "def plot(f, xlim=(0, 2), show_root=False):\n",
    "    \n",
    "    x_vals = torch.linspace(*xlim, 100, device=device).unsqueeze(1)\n",
    "    \n",
    "    f_vals = f(x_vals).cpu().detach()\n",
    "    dfdx_vals = torch.cat([grad(f, x) for x in x_vals]).cpu().detach()\n",
    "    x_vals = x_vals.cpu().detach()\n",
    "\n",
    "    fig, (ax0, ax1) = plt.subplots(2, 1, sharex=True, figsize=(8, 4))\n",
    "    \n",
    "    ax0.plot(x_vals, f_vals)\n",
    "    ax0.set_ylabel(r'$f$')\n",
    "    \n",
    "    ax1.plot(x_vals, dfdx_vals)\n",
    "    ax1.set_xlabel(r'$x$')\n",
    "    ax1.set_ylabel(r'$\\nabla \\: f$')\n",
    "    ax1.axhline(0, color='black', linewidth=0.5)\n",
    "    ax1.axvline(0, color='black', linewidth=0.5)\n",
    "\n",
    "    if show_root:\n",
    "        root = find_root(torch.tensor([1.], device=device), lambda x : grad(C, x))\n",
    "\n",
    "        if xlim[0] < root < xlim[1]:\n",
    "            ax0.axvline(root, c='r', alpha=0.5, linestyle='dashed', linewidth=0.75)\n",
    "            ax1.axvline(root, c='r', alpha=0.5, linestyle='dashed', linewidth=0.75)"
   ]
  },
  {
   "cell_type": "markdown",
   "id": "5a88fbe7-0f71-43db-b44e-464f4a0a4199",
   "metadata": {},
   "source": [
    "# Models"
   ]
  },
  {
   "cell_type": "code",
   "execution_count": 4,
   "id": "6db5dbe1-66f4-4bbc-b469-26c43dfb4b77",
   "metadata": {
    "tags": []
   },
   "outputs": [
    {
     "data": {
      "image/png": "[encoded data removed]",
      "text/plain": [
       "<Figure size 800x400 with 2 Axes>"
      ]
     },
     "metadata": {},
     "output_type": "display_data"
    }
   ],
   "source": [
    "C = ResidualMLP(\n",
    "    in_channels=1, \n",
    "    device=device\n",
    ")\n",
    "\n",
    "fine = Fine_RBM(device=device)\n",
    "coarse = A1_RBM(device=device)\n",
    "\n",
    "sampler = HMC()\n",
    "sampler.potential = lambda J : 0\n",
    "\n",
    "C.eval()\n",
    "plot(C, show_root=True)"
   ]
  },
  {
   "cell_type": "markdown",
   "id": "cf72c3bb-7fc0-4db5-9224-146b052300ab",
   "metadata": {},
   "source": [
    "# Training"
   ]
  },
  {
   "cell_type": "code",
   "execution_count": 5,
   "id": "25ee5988-1a96-450b-8981-0ed0e9fac894",
   "metadata": {
    "tags": []
   },
   "outputs": [],
   "source": [
    "epoch = 0\n",
    "epochs = 2048\n",
    "batch_size = 64\n",
    "k = 32\n",
    "beta = lambda epoch : 4/(1 + exp(-0.01 * (epoch - (epochs / 2))))"
   ]
  },
  {
   "cell_type": "code",
   "execution_count": 6,
   "id": "ed36aa48-7947-471d-a3a9-92a77e318d53",
   "metadata": {},
   "outputs": [],
   "source": [
    "optimizer = torch.optim.Adam(C.parameters())\n",
    "\n",
    "Js = []\n",
    "losses = []\n",
    "J = torch.rand(1)"
   ]
  },
  {
   "cell_type": "code",
   "execution_count": null,
   "id": "27a72fdb-1b76-4e7d-b0a1-b2017b3d4a79",
   "metadata": {
    "tags": []
   },
   "outputs": [
    {
     "name": "stderr",
     "output_type": "stream",
     "text": [
      " 74%|████████████████████████████▊          | 1510/2048 [00:33<00:12, 41.96it/s]"
     ]
    }
   ],
   "source": [
    "C.train()\n",
    "\n",
    "for epoch in tqdm(range(epoch, epoch + epochs)):\n",
    "    optimizer.zero_grad()\n",
    "    \n",
    "    loss = 0\n",
    "\n",
    "    sampler.potential = lambda J : beta(epoch) * -(grad(C, J) ** 2)\n",
    "\n",
    "    J = sampler.step(J)\n",
    "    Js.append(float(J))\n",
    "    fine.J = J\n",
    "    coarse.J = J - grad(C, J)\n",
    "\n",
    "    loss = free_energy_difference(\n",
    "        fine, coarse, \n",
    "        batch_size=batch_size, k=k\n",
    "    )\n",
    "    loss.backward()\n",
    "    optimizer.step()\n",
    "\n",
    "    losses.append(float(loss))\n",
    "\n",
    "fig, (ax0, ax1) = plt.subplots(1, 2, figsize=(8, 4))\n",
    "ax0.plot(losses[::5])\n",
    "ax1.plot(Js[::5])"
   ]
  },
  {
   "cell_type": "code",
   "execution_count": null,
   "id": "2a730895-57cd-4355-bafd-1e22fd56e541",
   "metadata": {
    "tags": []
   },
   "outputs": [],
   "source": [
    "C.eval()\n",
    "plot(C, xlim=(0, 2), show_root=True)"
   ]
  }
 ],
 "metadata": {
  "kernelspec": {
   "display_name": "Python 3 (ipykernel)",
   "language": "python",
   "name": "python3"
  },
  "language_info": {
   "codemirror_mode": {
    "name": "ipython",
    "version": 3
   },
   "file_extension": ".py",
   "mimetype": "text/x-python",
   "name": "python",
   "nbconvert_exporter": "python",
   "pygments_lexer": "ipython3",
   "version": "3.12.4"
  }
 },
 "nbformat": 4,
 "nbformat_minor": 5
}
