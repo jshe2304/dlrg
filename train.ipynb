{
 "cells": [
  {
   "cell_type": "code",
   "execution_count": 1,
   "id": "ab861d73-ea7b-4821-ac2f-684cbdc17166",
   "metadata": {
    "tags": []
   },
   "outputs": [],
   "source": [
    "import torch\n",
    "import torch.nn as nn\n",
    "\n",
    "import matplotlib.pyplot as plt\n",
    "\n",
    "import time\n",
    "from math import exp\n",
    "from tqdm import tqdm\n",
    "\n",
    "from rg.monotone import MLP\n",
    "from rbm.rbm import RBM\n",
    "from utils.losses import free_energy_contrast\n",
    "from utils.newton import find_root\n",
    "from utils.hmc import HMC\n",
    "from utils.grad import batch_grad, grad\n",
    "\n",
    "lattice = 'lieb'\n",
    "if lattice == 'lieb':\n",
    "    from rbm.coupling_matrices import fine_lieb_coupler as fine_coupler, a1_lieb_coupler as coarse_coupler\n",
    "elif lattice == 'hex':\n",
    "    from rbm.coupling_matrices import fine_hex_coupler as fine_coupler, coarse_hex_coupler as coarse_coupler"
   ]
  },
  {
   "cell_type": "code",
   "execution_count": 2,
   "id": "a59f417f-a379-409a-bc68-541f06c6e177",
   "metadata": {},
   "outputs": [],
   "source": [
    "device = torch.device('cuda')"
   ]
  },
  {
   "cell_type": "code",
   "execution_count": 3,
   "id": "2f610a0d-c435-4ee2-a1a3-1607759d6fc0",
   "metadata": {
    "jupyter": {
     "source_hidden": true
    },
    "tags": []
   },
   "outputs": [],
   "source": [
    "def plot(*functions, xlim=(0, 2)):\n",
    "    \n",
    "    x_range = torch.linspace(*xlim, 100, device=device).unsqueeze(1)\n",
    "\n",
    "    fig, axs = plt.subplots(len(functions), 1, sharex=True, figsize=(8, 2 * len(functions)))\n",
    "\n",
    "    if len(functions) == 1:\n",
    "        f_range = functions[0](x_range).cpu().detach()\n",
    "        axs.plot(x_range.cpu().detach(), f_range)\n",
    "        axs.axhline(0, color='black', linewidth=0.5)\n",
    "        axs.axvline(0, color='black', linewidth=0.5)\n",
    "        \n",
    "        return fig, axs\n",
    "\n",
    "    for i, f in enumerate(functions):\n",
    "        \n",
    "        f_range = f(x_range).cpu().detach()\n",
    "        \n",
    "        axs[i].plot(x_range.cpu().detach(), f_range)\n",
    "        axs[i].axhline(0, color='black', linewidth=0.5)\n",
    "        axs[i].axvline(0, color='black', linewidth=0.5)\n",
    "\n",
    "    return fig, axs"
   ]
  },
  {
   "cell_type": "markdown",
   "id": "5a88fbe7-0f71-43db-b44e-464f4a0a4199",
   "metadata": {},
   "source": [
    "# Models"
   ]
  },
  {
   "cell_type": "code",
   "execution_count": 4,
   "id": "5d8dd616-5783-469c-8ed7-142552cd3871",
   "metadata": {},
   "outputs": [],
   "source": [
    "flow = MLP(\n",
    "    dim=1, \n",
    "    device=device\n",
    ")\n",
    "flow.eval();"
   ]
  },
  {
   "cell_type": "code",
   "execution_count": 5,
   "id": "6fca078b-4a85-4136-94e3-df665c8ec4ac",
   "metadata": {},
   "outputs": [],
   "source": [
    "fine = RBM(fine_coupler, device=device)\n",
    "coarse = RBM(coarse_coupler, device=device)"
   ]
  },
  {
   "cell_type": "code",
   "execution_count": 6,
   "id": "84a27ef6-db08-4bf8-907c-0b2dc55caf44",
   "metadata": {},
   "outputs": [],
   "source": [
    "sampler = HMC(device=device)"
   ]
  },
  {
   "cell_type": "code",
   "execution_count": 7,
   "id": "fc5ceb00-709d-41d2-9ee0-1bad32d7e91a",
   "metadata": {
    "jp-MarkdownHeadingCollapsed": true,
    "tags": []
   },
   "outputs": [
    {
     "data": {
      "text/plain": [
       "Text(0.5, 1.0, 'Untrained RG Flow (gradient of C-function)')"
      ]
     },
     "execution_count": 7,
     "metadata": {},
     "output_type": "execute_result"
    },
    {
     "data": {
      "image/png": "[encoded data removed]",
      "text/plain": [
       "<Figure size 800x200 with 1 Axes>"
      ]
     },
     "metadata": {},
     "output_type": "display_data"
    }
   ],
   "source": [
    "fig, ax = plot(flow, xlim=(-10, 10))\n",
    "ax.set_ylabel(r'$\\nabla C$')\n",
    "ax.set_xlabel('J')\n",
    "ax.set_title('Untrained RG Flow (gradient of C-function)')"
   ]
  },
  {
   "cell_type": "markdown",
   "id": "cf72c3bb-7fc0-4db5-9224-146b052300ab",
   "metadata": {},
   "source": [
    "# Training"
   ]
  },
  {
   "cell_type": "code",
   "execution_count": 8,
   "id": "25ee5988-1a96-450b-8981-0ed0e9fac894",
   "metadata": {
    "tags": []
   },
   "outputs": [],
   "source": [
    "epoch = 0\n",
    "epochs = 1024\n",
    "sample_batch_size = 32\n",
    "cd_batch_size = 1024\n",
    "k_fine = 64\n",
    "k_coarse = 1\n",
    "\n",
    "beta = lambda epoch : 64/(1 + exp( -16 * (epoch - (epochs / 2)) / epochs ))"
   ]
  },
  {
   "cell_type": "code",
   "execution_count": 9,
   "id": "ed36aa48-7947-471d-a3a9-92a77e318d53",
   "metadata": {},
   "outputs": [],
   "source": [
    "optimizer = torch.optim.Adam(flow.parameters())\n",
    "\n",
    "Js = []\n",
    "losses = []\n",
    "J = torch.randn(sample_batch_size, 1, device=device)"
   ]
  },
  {
   "cell_type": "code",
   "execution_count": null,
   "id": "27a72fdb-1b76-4e7d-b0a1-b2017b3d4a79",
   "metadata": {
    "tags": []
   },
   "outputs": [
    {
     "name": "stderr",
     "output_type": "stream",
     "text": [
      " 82%|████████████████████████████████▉       | 842/1024 [01:34<00:20,  8.90it/s]"
     ]
    }
   ],
   "source": [
    "flow.train()\n",
    "for epoch in tqdm(range(epoch, epoch + epochs)):\n",
    "    optimizer.zero_grad()\n",
    "\n",
    "    sampler.potential = lambda J : beta(epoch) * (flow(J) ** 2)\n",
    "\n",
    "    # RG Flow\n",
    "    J = sampler.step(J).detach()\n",
    "\n",
    "    loss = 0\n",
    "    for i in range(sample_batch_size):\n",
    "        \n",
    "        fine.J = J[i]\n",
    "        coarse.J = J[i] + flow(J[i])\n",
    "    \n",
    "        # Loss\n",
    "        loss += free_energy_contrast(\n",
    "            fine, coarse, \n",
    "            batch_size=cd_batch_size, \n",
    "            k_fine=k_fine, \n",
    "            k_coarse=k_coarse\n",
    "        )\n",
    "    \n",
    "    loss.backward()\n",
    "    optimizer.step()\n",
    "\n",
    "    Js.append(J.clone().detach())\n",
    "    losses.append(float(loss))"
   ]
  },
  {
   "cell_type": "code",
   "execution_count": null,
   "id": "c98f065a-f3a3-47b5-9686-919add618387",
   "metadata": {},
   "outputs": [],
   "source": [
    "fig, (ax0, ax1) = plt.subplots(2, 1, figsize=(8, 4), sharex=True)\n",
    "ax0.plot(losses)\n",
    "ax0.set_ylabel('CD')\n",
    "ax0.set_title('Contrastive Divergence \"Loss\"')\n",
    "\n",
    "for traj in torch.cat(Js, dim=1):\n",
    "    ax1.plot(traj.cpu().detach(), alpha=0.2, c='black')\n",
    "ax1.set_ylabel(r'$J_{HMC}$')\n",
    "ax1.set_xlabel('Epoch')\n",
    "ax1.set_title('HMC Sampling Trajectories')\n",
    "plt.tight_layout()"
   ]
  },
  {
   "cell_type": "code",
   "execution_count": null,
   "id": "2a730895-57cd-4355-bafd-1e22fd56e541",
   "metadata": {
    "tags": []
   },
   "outputs": [],
   "source": [
    "flow.eval()\n",
    "fig, axs = plot(\n",
    "    flow, \n",
    "    sampler.potential, \n",
    "    xlim=(-2, 2)\n",
    ")\n",
    "axs[0].set_ylabel(r'$\\nabla C$')\n",
    "axs[0].set_title(r'Learned RG $\\beta$-function')\n",
    "axs[1].set_xlabel(r'$J$')\n",
    "axs[1].set_ylabel(r'$U = \\beta || \\nabla C ||^2$')\n",
    "axs[1].set_title('HMC Potential Function')\n",
    "plt.tight_layout()\n",
    "\n",
    "find_root(torch.tensor([1.], device=device), flow)"
   ]
  },
  {
   "cell_type": "code",
   "execution_count": null,
   "id": "9538cc8f-da80-464b-ac2c-24443328185a",
   "metadata": {},
   "outputs": [],
   "source": []
  }
 ],
 "metadata": {
  "kernelspec": {
   "display_name": "Python 3 (ipykernel)",
   "language": "python",
   "name": "python3"
  },
  "language_info": {
   "codemirror_mode": {
    "name": "ipython",
    "version": 3
   },
   "file_extension": ".py",
   "mimetype": "text/x-python",
   "name": "python",
   "nbconvert_exporter": "python",
   "pygments_lexer": "ipython3",
   "version": "3.12.4"
  }
 },
 "nbformat": 4,
 "nbformat_minor": 5
}
