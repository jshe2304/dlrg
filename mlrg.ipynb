{
 "cells": [
  {
   "cell_type": "code",
   "execution_count": 1,
   "id": "dfa8ed6b-8d12-438b-a397-7190e6287d71",
   "metadata": {},
   "outputs": [],
   "source": [
    "import torch\n",
    "import torch.nn as nn\n",
    "import matplotlib.pyplot as plt\n",
    "\n",
    "from tqdm import tqdm\n",
    "import itertools\n",
    "\n",
    "from rbm import FineRBM, A1_RBM\n",
    "from utils.loss import *"
   ]
  },
  {
   "cell_type": "code",
   "execution_count": 2,
   "id": "e09cf1d6-d7c4-4325-9be1-ad30d1bf5838",
   "metadata": {},
   "outputs": [],
   "source": [
    "device = torch.device('cuda')"
   ]
  },
  {
   "cell_type": "markdown",
   "id": "9b35cc72-ae97-4039-87e1-02b1c7bddb22",
   "metadata": {},
   "source": [
    "# MLRG Step"
   ]
  },
  {
   "cell_type": "code",
   "execution_count": 3,
   "id": "d855f6f1-4fee-4d89-a853-d5de798f845d",
   "metadata": {},
   "outputs": [],
   "source": [
    "def step(J, iters=5000, batch_n=4, k=8):\n",
    "    fine = FineRBM(J, device)\n",
    "    coarse = A1_RBM(J, device)\n",
    "    optimizer = torch.optim.Adam(coarse.parameters(), lr=0.001)\n",
    "\n",
    "    Js = []\n",
    "    for i in tqdm(range(iters)):\n",
    "        optimizer.zero_grad()\n",
    "    \n",
    "        loss = free_energy_difference(\n",
    "            fine, coarse, \n",
    "            batch_n=batch_n, k=k\n",
    "        )\n",
    "        loss.backward()\n",
    "        optimizer.step()\n",
    "\n",
    "        Js.append(float(coarse.J))\n",
    "\n",
    "    return Js"
   ]
  },
  {
   "cell_type": "markdown",
   "id": "889161da-2b48-4a39-9f8b-34b32cbd9b42",
   "metadata": {},
   "source": [
    "# MLRG Loop"
   ]
  },
  {
   "cell_type": "code",
   "execution_count": 4,
   "id": "4c93c9ad-25fd-464d-b6a5-642d4e9c3434",
   "metadata": {},
   "outputs": [],
   "source": [
    "J = 0.2 # Initial J\n",
    "steps = []"
   ]
  },
  {
   "cell_type": "code",
   "execution_count": 5,
   "id": "ca95908f-54bf-43df-a729-5619eb11484f",
   "metadata": {},
   "outputs": [
    {
     "name": "stdout",
     "output_type": "stream",
     "text": [
      "Step 0\n"
     ]
    },
    {
     "name": "stderr",
     "output_type": "stream",
     "text": [
      "100%|██████████████████████████████████████| 5000/5000 [00:11<00:00, 451.36it/s]\n"
     ]
    },
    {
     "name": "stdout",
     "output_type": "stream",
     "text": [
      "Step 1\n"
     ]
    },
    {
     "name": "stderr",
     "output_type": "stream",
     "text": [
      "100%|██████████████████████████████████████| 5000/5000 [00:11<00:00, 445.21it/s]\n"
     ]
    },
    {
     "name": "stdout",
     "output_type": "stream",
     "text": [
      "Step 2\n"
     ]
    },
    {
     "name": "stderr",
     "output_type": "stream",
     "text": [
      "100%|██████████████████████████████████████| 5000/5000 [00:11<00:00, 450.00it/s]\n"
     ]
    },
    {
     "name": "stdout",
     "output_type": "stream",
     "text": [
      "Step 3\n"
     ]
    },
    {
     "name": "stderr",
     "output_type": "stream",
     "text": [
      "100%|██████████████████████████████████████| 5000/5000 [00:11<00:00, 419.22it/s]\n"
     ]
    },
    {
     "name": "stdout",
     "output_type": "stream",
     "text": [
      "Step 4\n"
     ]
    },
    {
     "name": "stderr",
     "output_type": "stream",
     "text": [
      "100%|██████████████████████████████████████| 5000/5000 [00:11<00:00, 422.59it/s]\n"
     ]
    },
    {
     "name": "stdout",
     "output_type": "stream",
     "text": [
      "Step 5\n"
     ]
    },
    {
     "name": "stderr",
     "output_type": "stream",
     "text": [
      "100%|██████████████████████████████████████| 5000/5000 [00:11<00:00, 418.25it/s]\n"
     ]
    },
    {
     "name": "stdout",
     "output_type": "stream",
     "text": [
      "Step 6\n"
     ]
    },
    {
     "name": "stderr",
     "output_type": "stream",
     "text": [
      "100%|██████████████████████████████████████| 5000/5000 [00:11<00:00, 420.09it/s]\n"
     ]
    },
    {
     "name": "stdout",
     "output_type": "stream",
     "text": [
      "Step 7\n"
     ]
    },
    {
     "name": "stderr",
     "output_type": "stream",
     "text": [
      "100%|██████████████████████████████████████| 5000/5000 [00:11<00:00, 422.19it/s]\n"
     ]
    },
    {
     "name": "stdout",
     "output_type": "stream",
     "text": [
      "Step 8\n"
     ]
    },
    {
     "name": "stderr",
     "output_type": "stream",
     "text": [
      "100%|██████████████████████████████████████| 5000/5000 [00:11<00:00, 419.72it/s]\n"
     ]
    },
    {
     "name": "stdout",
     "output_type": "stream",
     "text": [
      "Step 9\n"
     ]
    },
    {
     "name": "stderr",
     "output_type": "stream",
     "text": [
      "100%|██████████████████████████████████████| 5000/5000 [00:11<00:00, 421.14it/s]\n"
     ]
    }
   ],
   "source": [
    "n_steps = 10\n",
    "\n",
    "for i in range(n_steps):\n",
    "    print(f'Step {i}')\n",
    "    \n",
    "    Js = step(J)\n",
    "    steps.append(Js)\n",
    "    \n",
    "    J = Js[-1]"
   ]
  },
  {
   "cell_type": "code",
   "execution_count": 6,
   "id": "46533253-28c0-4dc6-ae01-81391a0bfa38",
   "metadata": {},
   "outputs": [
    {
     "data": {
      "text/plain": [
       "[<matplotlib.lines.Line2D at 0x7f66009d7590>]"
      ]
     },
     "execution_count": 6,
     "metadata": {},
     "output_type": "execute_result"
    },
    {
     "data": {
      "image/png": "[encoded data removed]",
      "text/plain": [
       "<Figure size 640x480 with 1 Axes>"
      ]
     },
     "metadata": {},
     "output_type": "display_data"
    }
   ],
   "source": [
    "plt.plot(list(\n",
    "    itertools.chain(*steps)\n",
    "))"
   ]
  },
  {
   "cell_type": "markdown",
   "id": "2092b132-b18a-442c-9fd6-95cbaf3daf1e",
   "metadata": {},
   "source": [
    "# MLRG Gradients"
   ]
  },
  {
   "cell_type": "code",
   "execution_count": 7,
   "id": "ee15b45a-00a1-4a70-b1c7-cfde8a9b3f2e",
   "metadata": {},
   "outputs": [
    {
     "name": "stdout",
     "output_type": "stream",
     "text": [
      "J=0.0\n"
     ]
    },
    {
     "name": "stderr",
     "output_type": "stream",
     "text": [
      "100%|██████████████████████████████████████| 5000/5000 [00:11<00:00, 428.86it/s]\n",
      "100%|██████████████████████████████████████| 5000/5000 [00:11<00:00, 453.20it/s]\n",
      "100%|██████████████████████████████████████| 5000/5000 [00:10<00:00, 460.60it/s]\n"
     ]
    },
    {
     "name": "stdout",
     "output_type": "stream",
     "text": [
      "J=0.10526315867900848\n"
     ]
    },
    {
     "name": "stderr",
     "output_type": "stream",
     "text": [
      "100%|██████████████████████████████████████| 5000/5000 [00:11<00:00, 446.01it/s]\n",
      "100%|██████████████████████████████████████| 5000/5000 [00:11<00:00, 448.80it/s]\n",
      "100%|██████████████████████████████████████| 5000/5000 [00:11<00:00, 453.40it/s]\n"
     ]
    },
    {
     "name": "stdout",
     "output_type": "stream",
     "text": [
      "J=0.21052631735801697\n"
     ]
    },
    {
     "name": "stderr",
     "output_type": "stream",
     "text": [
      "100%|██████████████████████████████████████| 5000/5000 [00:11<00:00, 436.99it/s]\n",
      "100%|██████████████████████████████████████| 5000/5000 [00:12<00:00, 414.05it/s]\n",
      "100%|██████████████████████████████████████| 5000/5000 [00:11<00:00, 422.13it/s]\n"
     ]
    },
    {
     "name": "stdout",
     "output_type": "stream",
     "text": [
      "J=0.31578946113586426\n"
     ]
    },
    {
     "name": "stderr",
     "output_type": "stream",
     "text": [
      "100%|██████████████████████████████████████| 5000/5000 [00:11<00:00, 416.97it/s]\n",
      "100%|██████████████████████████████████████| 5000/5000 [00:12<00:00, 414.32it/s]\n",
      "100%|██████████████████████████████████████| 5000/5000 [00:12<00:00, 414.98it/s]\n"
     ]
    },
    {
     "name": "stdout",
     "output_type": "stream",
     "text": [
      "J=0.42105263471603394\n"
     ]
    },
    {
     "name": "stderr",
     "output_type": "stream",
     "text": [
      "100%|██████████████████████████████████████| 5000/5000 [00:11<00:00, 422.13it/s]\n",
      "100%|██████████████████████████████████████| 5000/5000 [00:11<00:00, 421.16it/s]\n",
      "100%|██████████████████████████████████████| 5000/5000 [00:11<00:00, 448.74it/s]\n"
     ]
    },
    {
     "name": "stdout",
     "output_type": "stream",
     "text": [
      "J=0.5263158082962036\n"
     ]
    },
    {
     "name": "stderr",
     "output_type": "stream",
     "text": [
      "100%|██████████████████████████████████████| 5000/5000 [00:10<00:00, 458.58it/s]\n",
      "100%|██████████████████████████████████████| 5000/5000 [00:10<00:00, 455.72it/s]\n",
      "100%|██████████████████████████████████████| 5000/5000 [00:11<00:00, 452.96it/s]\n"
     ]
    },
    {
     "name": "stdout",
     "output_type": "stream",
     "text": [
      "J=0.6315789222717285\n"
     ]
    },
    {
     "name": "stderr",
     "output_type": "stream",
     "text": [
      "100%|██████████████████████████████████████| 5000/5000 [00:11<00:00, 453.80it/s]\n",
      "100%|██████████████████████████████████████| 5000/5000 [00:11<00:00, 447.91it/s]\n",
      "100%|██████████████████████████████████████| 5000/5000 [00:11<00:00, 421.79it/s]\n"
     ]
    },
    {
     "name": "stdout",
     "output_type": "stream",
     "text": [
      "J=0.7368420958518982\n"
     ]
    },
    {
     "name": "stderr",
     "output_type": "stream",
     "text": [
      "100%|██████████████████████████████████████| 5000/5000 [00:11<00:00, 419.61it/s]\n",
      "100%|██████████████████████████████████████| 5000/5000 [00:12<00:00, 412.30it/s]\n",
      "100%|██████████████████████████████████████| 5000/5000 [00:11<00:00, 417.26it/s]\n"
     ]
    },
    {
     "name": "stdout",
     "output_type": "stream",
     "text": [
      "J=0.8421052694320679\n"
     ]
    },
    {
     "name": "stderr",
     "output_type": "stream",
     "text": [
      "100%|██████████████████████████████████████| 5000/5000 [00:12<00:00, 414.86it/s]\n",
      "100%|██████████████████████████████████████| 5000/5000 [00:12<00:00, 414.73it/s]\n",
      "100%|██████████████████████████████████████| 5000/5000 [00:11<00:00, 421.97it/s]\n"
     ]
    },
    {
     "name": "stdout",
     "output_type": "stream",
     "text": [
      "J=0.9473684430122375\n"
     ]
    },
    {
     "name": "stderr",
     "output_type": "stream",
     "text": [
      "100%|██████████████████████████████████████| 5000/5000 [00:11<00:00, 438.55it/s]\n",
      "100%|██████████████████████████████████████| 5000/5000 [00:11<00:00, 453.50it/s]\n",
      "100%|██████████████████████████████████████| 5000/5000 [00:11<00:00, 447.54it/s]\n"
     ]
    },
    {
     "name": "stdout",
     "output_type": "stream",
     "text": [
      "J=1.0526316165924072\n"
     ]
    },
    {
     "name": "stderr",
     "output_type": "stream",
     "text": [
      "100%|██████████████████████████████████████| 5000/5000 [00:10<00:00, 454.56it/s]\n",
      "100%|██████████████████████████████████████| 5000/5000 [00:10<00:00, 463.95it/s]\n",
      "100%|██████████████████████████████████████| 5000/5000 [00:11<00:00, 445.48it/s]\n"
     ]
    },
    {
     "name": "stdout",
     "output_type": "stream",
     "text": [
      "J=1.1578947305679321\n"
     ]
    },
    {
     "name": "stderr",
     "output_type": "stream",
     "text": [
      "100%|██████████████████████████████████████| 5000/5000 [00:11<00:00, 417.86it/s]\n",
      "100%|██████████████████████████████████████| 5000/5000 [00:12<00:00, 415.18it/s]\n",
      "100%|██████████████████████████████████████| 5000/5000 [00:12<00:00, 415.62it/s]\n"
     ]
    },
    {
     "name": "stdout",
     "output_type": "stream",
     "text": [
      "J=1.263157844543457\n"
     ]
    },
    {
     "name": "stderr",
     "output_type": "stream",
     "text": [
      "100%|██████████████████████████████████████| 5000/5000 [00:11<00:00, 418.59it/s]\n",
      "100%|██████████████████████████████████████| 5000/5000 [00:12<00:00, 416.09it/s]\n",
      "100%|██████████████████████████████████████| 5000/5000 [00:11<00:00, 418.39it/s]\n"
     ]
    },
    {
     "name": "stdout",
     "output_type": "stream",
     "text": [
      "J=1.3684210777282715\n"
     ]
    },
    {
     "name": "stderr",
     "output_type": "stream",
     "text": [
      "100%|██████████████████████████████████████| 5000/5000 [00:12<00:00, 412.77it/s]\n",
      "100%|██████████████████████████████████████| 5000/5000 [00:11<00:00, 430.97it/s]\n",
      "100%|██████████████████████████████████████| 5000/5000 [00:11<00:00, 454.33it/s]\n"
     ]
    },
    {
     "name": "stdout",
     "output_type": "stream",
     "text": [
      "J=1.4736841917037964\n"
     ]
    },
    {
     "name": "stderr",
     "output_type": "stream",
     "text": [
      "100%|██████████████████████████████████████| 5000/5000 [00:11<00:00, 448.87it/s]\n",
      "100%|██████████████████████████████████████| 5000/5000 [00:10<00:00, 458.95it/s]\n",
      "100%|██████████████████████████████████████| 5000/5000 [00:11<00:00, 447.10it/s]\n"
     ]
    },
    {
     "name": "stdout",
     "output_type": "stream",
     "text": [
      "J=1.5789473056793213\n"
     ]
    },
    {
     "name": "stderr",
     "output_type": "stream",
     "text": [
      "100%|██████████████████████████████████████| 5000/5000 [00:11<00:00, 429.83it/s]\n",
      "100%|██████████████████████████████████████| 5000/5000 [00:11<00:00, 419.60it/s]\n",
      "100%|██████████████████████████████████████| 5000/5000 [00:11<00:00, 421.46it/s]\n"
     ]
    },
    {
     "name": "stdout",
     "output_type": "stream",
     "text": [
      "J=1.6842105388641357\n"
     ]
    },
    {
     "name": "stderr",
     "output_type": "stream",
     "text": [
      "100%|██████████████████████████████████████| 5000/5000 [00:12<00:00, 411.92it/s]\n",
      "100%|██████████████████████████████████████| 5000/5000 [00:11<00:00, 417.36it/s]\n",
      "100%|██████████████████████████████████████| 5000/5000 [00:12<00:00, 411.19it/s]\n"
     ]
    },
    {
     "name": "stdout",
     "output_type": "stream",
     "text": [
      "J=1.7894736528396606\n"
     ]
    },
    {
     "name": "stderr",
     "output_type": "stream",
     "text": [
      "100%|██████████████████████████████████████| 5000/5000 [00:12<00:00, 415.08it/s]\n",
      "100%|██████████████████████████████████████| 5000/5000 [00:11<00:00, 419.30it/s]\n",
      "100%|██████████████████████████████████████| 5000/5000 [00:11<00:00, 453.66it/s]\n"
     ]
    },
    {
     "name": "stdout",
     "output_type": "stream",
     "text": [
      "J=1.894736886024475\n"
     ]
    },
    {
     "name": "stderr",
     "output_type": "stream",
     "text": [
      "100%|██████████████████████████████████████| 5000/5000 [00:11<00:00, 453.55it/s]\n",
      "100%|██████████████████████████████████████| 5000/5000 [00:11<00:00, 453.01it/s]\n",
      "100%|██████████████████████████████████████| 5000/5000 [00:11<00:00, 454.14it/s]\n"
     ]
    },
    {
     "name": "stdout",
     "output_type": "stream",
     "text": [
      "J=2.0\n"
     ]
    },
    {
     "name": "stderr",
     "output_type": "stream",
     "text": [
      "100%|██████████████████████████████████████| 5000/5000 [00:11<00:00, 454.53it/s]\n",
      "100%|██████████████████████████████████████| 5000/5000 [00:11<00:00, 450.55it/s]\n",
      "100%|██████████████████████████████████████| 5000/5000 [00:12<00:00, 414.80it/s]\n"
     ]
    }
   ],
   "source": [
    "Js = list(torch.linspace(0, 2, 20).numpy())\n",
    "\n",
    "deltas = []\n",
    "for J_t in Js:\n",
    "    \n",
    "    print(f'J={J_t}')\n",
    "    \n",
    "    n_steps = 3\n",
    "\n",
    "    J_s = J_t\n",
    "    for i in range(n_steps):\n",
    "        J_s = float(step(J_s)[-1])\n",
    "\n",
    "    deltas.append(J_s - J_t)"
   ]
  },
  {
   "cell_type": "code",
   "execution_count": 9,
   "id": "c5b77c5e-b620-47df-8843-71190c5c7ef2",
   "metadata": {},
   "outputs": [
    {
     "data": {
      "text/plain": [
       "[<matplotlib.lines.Line2D at 0x7f65d40f1970>]"
      ]
     },
     "execution_count": 9,
     "metadata": {},
     "output_type": "execute_result"
    },
    {
     "data": {
      "image/png": "[encoded data removed]",
      "text/plain": [
       "<Figure size 640x480 with 1 Axes>"
      ]
     },
     "metadata": {},
     "output_type": "display_data"
    }
   ],
   "source": [
    "plt.plot(Js, deltas)"
   ]
  },
  {
   "cell_type": "code",
   "execution_count": null,
   "id": "bbc87582-02d4-49dc-9f8d-dd2a92a7f8a3",
   "metadata": {},
   "outputs": [],
   "source": []
  }
 ],
 "metadata": {
  "kernelspec": {
   "display_name": "Python 3 (ipykernel)",
   "language": "python",
   "name": "python3"
  },
  "language_info": {
   "codemirror_mode": {
    "name": "ipython",
    "version": 3
   },
   "file_extension": ".py",
   "mimetype": "text/x-python",
   "name": "python",
   "nbconvert_exporter": "python",
   "pygments_lexer": "ipython3",
   "version": "3.12.4"
  }
 },
 "nbformat": 4,
 "nbformat_minor": 5
}
