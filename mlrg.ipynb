{
 "cells": [
  {
   "cell_type": "code",
   "execution_count": 1,
   "id": "dfa8ed6b-8d12-438b-a397-7190e6287d71",
   "metadata": {},
   "outputs": [],
   "source": [
    "import torch\n",
    "import torch.nn as nn\n",
    "import matplotlib.pyplot as plt\n",
    "\n",
    "from tqdm import tqdm\n",
    "import itertools\n",
    "\n",
    "from rbm import FineRBM, A1_RBM\n",
    "from utils.loss import *"
   ]
  },
  {
   "cell_type": "code",
   "execution_count": 2,
   "id": "e09cf1d6-d7c4-4325-9be1-ad30d1bf5838",
   "metadata": {},
   "outputs": [],
   "source": [
    "device = torch.device('cuda')"
   ]
  },
  {
   "cell_type": "markdown",
   "id": "9b35cc72-ae97-4039-87e1-02b1c7bddb22",
   "metadata": {},
   "source": [
    "# MLRG Step"
   ]
  },
  {
   "cell_type": "code",
   "execution_count": 3,
   "id": "d855f6f1-4fee-4d89-a853-d5de798f845d",
   "metadata": {},
   "outputs": [],
   "source": [
    "def step(J, iters=5000, batch_n=4, k=10):\n",
    "    fine = FineRBM(J, device)\n",
    "    coarse = A1_RBM(J, device)\n",
    "    optimizer = torch.optim.Adam(coarse.parameters(), lr=0.001)\n",
    "\n",
    "    Js = []\n",
    "    for i in tqdm(range(iters)):\n",
    "        optimizer.zero_grad()\n",
    "    \n",
    "        loss = free_energy_difference(\n",
    "            fine, coarse, \n",
    "            batch_n=batch_n, k=k\n",
    "        )\n",
    "        loss.backward()\n",
    "        optimizer.step()\n",
    "\n",
    "        Js.append(float(coarse.J))\n",
    "\n",
    "    return Js"
   ]
  },
  {
   "cell_type": "markdown",
   "id": "889161da-2b48-4a39-9f8b-34b32cbd9b42",
   "metadata": {},
   "source": [
    "# MLRG Loop"
   ]
  },
  {
   "cell_type": "code",
   "execution_count": 4,
   "id": "4c93c9ad-25fd-464d-b6a5-642d4e9c3434",
   "metadata": {},
   "outputs": [],
   "source": [
    "J = 2 # Initial J\n",
    "steps = []"
   ]
  },
  {
   "cell_type": "code",
   "execution_count": 7,
   "id": "ca95908f-54bf-43df-a729-5619eb11484f",
   "metadata": {},
   "outputs": [
    {
     "name": "stdout",
     "output_type": "stream",
     "text": [
      "Step 0\n"
     ]
    },
    {
     "name": "stderr",
     "output_type": "stream",
     "text": [
      "100%|██████████████████████████████████████| 2500/2500 [00:13<00:00, 178.86it/s]\n"
     ]
    },
    {
     "name": "stdout",
     "output_type": "stream",
     "text": [
      "Step 1\n"
     ]
    },
    {
     "name": "stderr",
     "output_type": "stream",
     "text": [
      "100%|██████████████████████████████████████| 2500/2500 [00:14<00:00, 177.06it/s]\n"
     ]
    },
    {
     "name": "stdout",
     "output_type": "stream",
     "text": [
      "Step 2\n"
     ]
    },
    {
     "name": "stderr",
     "output_type": "stream",
     "text": [
      "100%|██████████████████████████████████████| 2500/2500 [00:14<00:00, 178.13it/s]\n"
     ]
    },
    {
     "name": "stdout",
     "output_type": "stream",
     "text": [
      "Step 3\n"
     ]
    },
    {
     "name": "stderr",
     "output_type": "stream",
     "text": [
      "100%|██████████████████████████████████████| 2500/2500 [00:13<00:00, 179.30it/s]\n"
     ]
    },
    {
     "name": "stdout",
     "output_type": "stream",
     "text": [
      "Step 4\n"
     ]
    },
    {
     "name": "stderr",
     "output_type": "stream",
     "text": [
      "100%|██████████████████████████████████████| 2500/2500 [00:13<00:00, 179.14it/s]\n"
     ]
    },
    {
     "name": "stdout",
     "output_type": "stream",
     "text": [
      "Step 5\n"
     ]
    },
    {
     "name": "stderr",
     "output_type": "stream",
     "text": [
      "100%|██████████████████████████████████████| 2500/2500 [00:14<00:00, 178.47it/s]\n"
     ]
    },
    {
     "name": "stdout",
     "output_type": "stream",
     "text": [
      "Step 6\n"
     ]
    },
    {
     "name": "stderr",
     "output_type": "stream",
     "text": [
      "100%|██████████████████████████████████████| 2500/2500 [00:13<00:00, 186.67it/s]\n"
     ]
    },
    {
     "name": "stdout",
     "output_type": "stream",
     "text": [
      "Step 7\n"
     ]
    },
    {
     "name": "stderr",
     "output_type": "stream",
     "text": [
      "100%|██████████████████████████████████████| 2500/2500 [00:13<00:00, 190.96it/s]\n"
     ]
    },
    {
     "name": "stdout",
     "output_type": "stream",
     "text": [
      "Step 8\n"
     ]
    },
    {
     "name": "stderr",
     "output_type": "stream",
     "text": [
      "100%|██████████████████████████████████████| 2500/2500 [00:13<00:00, 180.65it/s]\n"
     ]
    },
    {
     "name": "stdout",
     "output_type": "stream",
     "text": [
      "Step 9\n"
     ]
    },
    {
     "name": "stderr",
     "output_type": "stream",
     "text": [
      "100%|██████████████████████████████████████| 2500/2500 [00:13<00:00, 178.88it/s]\n"
     ]
    }
   ],
   "source": [
    "n_steps = 10\n",
    "\n",
    "for i in range(n_steps):\n",
    "    print(f'Step {i}')\n",
    "    \n",
    "    Js = step(J, iters=2500, k=24)\n",
    "    steps.append(Js)\n",
    "    \n",
    "    J = Js[-1]"
   ]
  },
  {
   "cell_type": "code",
   "execution_count": 8,
   "id": "46533253-28c0-4dc6-ae01-81391a0bfa38",
   "metadata": {},
   "outputs": [
    {
     "data": {
      "text/plain": [
       "Text(0, 0.5, 'J')"
      ]
     },
     "execution_count": 8,
     "metadata": {},
     "output_type": "execute_result"
    },
    {
     "data": {
      "image/png": "[encoded data removed]",
      "text/plain": [
       "<Figure size 640x480 with 1 Axes>"
      ]
     },
     "metadata": {},
     "output_type": "display_data"
    }
   ],
   "source": [
    "plt.plot(list(\n",
    "    itertools.chain(*steps)\n",
    "))\n",
    "plt.xlabel('Step')\n",
    "plt.ylabel('J')"
   ]
  },
  {
   "cell_type": "markdown",
   "id": "2092b132-b18a-442c-9fd6-95cbaf3daf1e",
   "metadata": {},
   "source": [
    "# MLRG Gradients"
   ]
  },
  {
   "cell_type": "code",
   "execution_count": null,
   "id": "ee15b45a-00a1-4a70-b1c7-cfde8a9b3f2e",
   "metadata": {},
   "outputs": [],
   "source": [
    "linspace = list(torch.linspace(0, 2.5, 25).numpy())\n",
    "\n",
    "deltas = []\n",
    "for J_t in linspace:\n",
    "    \n",
    "    print(f'J={J_t}')\n",
    "    \n",
    "    n_steps = 4\n",
    "\n",
    "    J_s = J_t\n",
    "    for i in range(n_steps):\n",
    "        J_s = float(step(J_s)[-1])\n",
    "\n",
    "    deltas.append(J_s - J_t)"
   ]
  },
  {
   "cell_type": "code",
   "execution_count": 36,
   "id": "c5b77c5e-b620-47df-8843-71190c5c7ef2",
   "metadata": {},
   "outputs": [
    {
     "data": {
      "text/plain": [
       "<matplotlib.lines.Line2D at 0x7f1cb4e44470>"
      ]
     },
     "execution_count": 36,
     "metadata": {},
     "output_type": "execute_result"
    },
    {
     "data": {
      "image/png": "[encoded data removed]",
      "text/plain": [
       "<Figure size 640x480 with 1 Axes>"
      ]
     },
     "metadata": {},
     "output_type": "display_data"
    }
   ],
   "source": [
    "plt.plot(linspace, deltas)\n",
    "plt.xlabel('J')\n",
    "plt.ylabel(r'Flow Direction')\n",
    "plt.axvline(0.7643, ls='--', c='r', alpha=0.5)\n",
    "plt.axhline(0, ls='--', c='g', alpha=0.5)"
   ]
  }
 ],
 "metadata": {
  "kernelspec": {
   "display_name": "Python 3 (ipykernel)",
   "language": "python",
   "name": "python3"
  },
  "language_info": {
   "codemirror_mode": {
    "name": "ipython",
    "version": 3
   },
   "file_extension": ".py",
   "mimetype": "text/x-python",
   "name": "python",
   "nbconvert_exporter": "python",
   "pygments_lexer": "ipython3",
   "version": "3.10.6"
  }
 },
 "nbformat": 4,
 "nbformat_minor": 5
}
